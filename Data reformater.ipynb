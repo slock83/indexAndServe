{
 "cells": [
  {
   "cell_type": "code",
   "execution_count": null,
   "metadata": {
    "ExecuteTime": {
     "end_time": "2016-09-28T09:24:11.127262",
     "start_time": "2016-09-28T09:24:11.077583"
    },
    "collapsed": true
   },
   "outputs": [],
   "source": [
    "from os import listdir\n",
    "from os.path import isfile, join\n",
    "import json\n",
    "import re\n",
    "import tqdm\n",
    "from time import sleep"
   ]
  },
  {
   "cell_type": "code",
   "execution_count": null,
   "metadata": {
    "ExecuteTime": {
     "end_time": "2016-09-28T09:24:11.205135",
     "start_time": "2016-09-28T09:24:11.202120"
    },
    "collapsed": false
   },
   "outputs": [],
   "source": [
    "docs = listdir(\"latimes\")"
   ]
  },
  {
   "cell_type": "code",
   "execution_count": null,
   "metadata": {
    "ExecuteTime": {
     "end_time": "2016-09-28T00:14:59.454916",
     "start_time": "2016-09-28T00:13:08.920778"
    },
    "collapsed": false,
    "scrolled": true
   },
   "outputs": [],
   "source": [
    "docs = listdir(\"latimes\")\n",
    "for document in docs :\n",
    "    with open(\"latimes/\"+document, 'r') as f:\n",
    "        words =f.read().lower()\n",
    "        words = words.replace(\"\\\"\",\"\\\\\\\"\")\n",
    "        words = words.replace(\";\",\"\").replace(\"$\",\"\")\n",
    "        words = re.compile(\"(/date>.*?<section)\", re.DOTALL).sub(\"/date><section\", words)\n",
    "        words = words.replace(\"\\n<doc>\",\",{\").replace(\"<doc>\",\"{\").replace(\"</doc>\",\"}\")\n",
    "        words = words.replace(\"<date>\", \"\\\"date\\\":\\\"\").replace(\"<p>\\n\",\"\").replace(\"\\n</p>\",\"\").replace(\"</date>\", \"\\\",\")\n",
    "        words = words.replace(\"<docno> \", \"\\\"docno\\\" : \\\"\").replace(\" </docno>\", \"\\\",\")\n",
    "        words = words.replace(\"<docid> \", \"\\\"docid\\\" : \\\"\").replace(\" </docid>\", \"\\\",\")\n",
    "        words = words.replace(\"<section>\\n\", \"\\\"section\\\":\\\"\").replace(\"</section>\", \"\\\",\")\n",
    "        words = words.replace(\"<length>\\n\", \"\\\"length\\\":\\\"\").replace(\"</length>\", \"\\\",\")\n",
    "        words = words.replace(\"<headline>\\n\", \"\\\"headline\\\":\\\"\").replace(\"</headline>\", \"\\\",\")\n",
    "        words = words.replace(\"<byline>\\n\", \"\\\"byline\\\":\\\"\").replace(\"</byline>\", \"\\\",\")\n",
    "        words = words.replace(\"<text>\\n\", \"\\\"text\\\":\\\"\").replace(\"</text>\", \"\\\",\")\n",
    "        words = words.replace(\"<graphic>\\n\", \"\\\"graphic\\\":\\\"\").replace(\"</graphic>\", \"\\\",\")\n",
    "        words = words.replace(\"<type>\\n\", \"\\\"type\\\":\\\"\").replace(\"</type>\", \"\\\",\")\n",
    "        words = words.replace(\"<dateline>\\n\", \"\\\"dateline\\\":\\\"\").replace(\"</dateline>\", \"\\\",\")\n",
    "        words = words.replace(\"<subject>\\n\", \"\\\"subject\\\":\\\"\").replace(\"</subject>\", \"\\\",\")\n",
    "        words = words.replace(\"<correction>\\n\", \"\\\"correction\\\":\\\"\").replace(\"</correction>\", \"\\\",\")\n",
    "        words = words.replace(\"<correction-date>\\n\", \"\\\"correction-date\\\":\\\"\").replace(\"</correction-date>\", \"\\\",\")\n",
    "        words = words.replace(\"\\n\",\" \").replace(\"\\\", \\\"\", \"\\\",\\n\\\"\").replace(\"\\r\",\"\")\n",
    "        words = re.compile(\"(<table .*? /table>)\", re.DOTALL).sub(\"\", words)\n",
    "        words = words.replace(\", }\", \" }\").replace(\",}\", \" }\")\n",
    "        words = \"[\" + words + \"]\"\n",
    "    j = json.loads(words) # minimize the thing by loading it as json then saving raw, unformatted json\n",
    "    with open(\"latimes_cleaned/\"+ document, 'w') as outfile:\n",
    "        json.dump(j, outfile)\n",
    "        \n",
    "# if you kept the readmes, you will have an exception. it occurs after the processing though, so, not a problem."
   ]
  },
  {
   "cell_type": "code",
   "execution_count": null,
   "metadata": {
    "ExecuteTime": {
     "end_time": "2016-09-28T00:07:32.991204",
     "start_time": "2016-09-28T00:07:32.986198"
    },
    "collapsed": false
   },
   "outputs": [],
   "source": [
    "j = json.loads(words)"
   ]
  },
  {
   "cell_type": "code",
   "execution_count": null,
   "metadata": {
    "ExecuteTime": {
     "end_time": "2016-09-28T09:24:47.736544",
     "start_time": "2016-09-28T09:24:47.727539"
    },
    "collapsed": false
   },
   "outputs": [],
   "source": [
    "j = json.load(open(\"latimes_cleaned/\"+docs[0]))"
   ]
  },
  {
   "cell_type": "code",
   "execution_count": null,
   "metadata": {
    "ExecuteTime": {
     "end_time": "2016-09-28T09:24:50.004333",
     "start_time": "2016-09-28T09:24:49.933325"
    },
    "collapsed": false
   },
   "outputs": [],
   "source": [
    "j #test"
   ]
  },
  {
   "cell_type": "code",
   "execution_count": null,
   "metadata": {
    "collapsed": true
   },
   "outputs": [],
   "source": []
  }
 ],
 "metadata": {
  "anaconda-cloud": {},
  "kernelspec": {
   "display_name": "Python [Root]",
   "language": "python",
   "name": "Python [Root]"
  },
  "language_info": {
   "codemirror_mode": {
    "name": "ipython",
    "version": 3
   },
   "file_extension": ".py",
   "mimetype": "text/x-python",
   "name": "python",
   "nbconvert_exporter": "python",
   "pygments_lexer": "ipython3",
   "version": "3.5.2"
  },
  "nav_menu": {},
  "toc": {
   "navigate_menu": true,
   "number_sections": true,
   "sideBar": true,
   "threshold": 6,
   "toc_cell": false,
   "toc_section_display": "block",
   "toc_window_display": false
  }
 },
 "nbformat": 4,
 "nbformat_minor": 0
}
